{
 "cells": [
  {
   "cell_type": "markdown",
   "metadata": {},
   "source": [
    "### Importing Libraries\n"
   ]
  },
  {
   "cell_type": "code",
   "execution_count": 625,
   "metadata": {},
   "outputs": [],
   "source": [
    "import numpy as np\n",
    "import pandas as pd\n",
    "import matplotlib.pyplot as plt\n",
    "import seaborn as sns\n",
    "import warnings\n",
    "warnings.filterwarnings('ignore')\n",
    "pd.set_option('display.max_columns',100) # Displaying all columns\n",
    "pd.set_option('display.max_colwidth', 100)\n",
    "# For adding missing values\n",
    "from sklearn.impute import SimpleImputer\n",
    "from sklearn.preprocessing import LabelEncoder,  MinMaxScaler\n",
    "from sklearn.tree import DecisionTreeClassifier\n",
    "from sklearn.naive_bayes import GaussianNB\n",
    "from sklearn.svm import SVC\n",
    "from sklearn.ensemble import GradientBoostingClassifier\n",
    "from sklearn.model_selection import train_test_split\n",
    "from sklearn.metrics import accuracy_score, confusion_matrix, classification_report"
   ]
  },
  {
   "cell_type": "markdown",
   "metadata": {},
   "source": [
    "### Read Data"
   ]
  },
  {
   "cell_type": "code",
   "execution_count": 626,
   "metadata": {},
   "outputs": [],
   "source": [
    "df=pd.read_csv('kidneyChronic.csv')"
   ]
  },
  {
   "cell_type": "code",
   "execution_count": 627,
   "metadata": {},
   "outputs": [
    {
     "name": "stdout",
     "output_type": "stream",
     "text": [
      "Input Data columns: Index(['age', 'bp', 'sg', 'al', 'su', 'rbc', 'pc', 'pcc', 'ba', 'bgr', 'bu',\n",
      "       'sc', 'sod', 'pot', 'hemo', 'pcv', 'wbcc', 'rbcc', 'htn', 'dm', 'cad',\n",
      "       'appet', 'pe', 'ane', 'class'],\n",
      "      dtype='object')\n"
     ]
    }
   ],
   "source": [
    "print(\"Input Data columns:\", df.columns)"
   ]
  },
  {
   "cell_type": "code",
   "execution_count": 628,
   "metadata": {},
   "outputs": [],
   "source": [
    "#Replacing column names wbcc and rbcc as per given data set reference.\n",
    "df = df.rename(columns={\"wbcc\":\"wc\"})\n",
    "df = df.rename(columns={\"rbcc\":\"rc\"})"
   ]
  },
  {
   "cell_type": "code",
   "execution_count": 629,
   "metadata": {},
   "outputs": [
    {
     "data": {
      "text/plain": [
       "(400, 25)"
      ]
     },
     "execution_count": 629,
     "metadata": {},
     "output_type": "execute_result"
    }
   ],
   "source": [
    "df.shape"
   ]
  },
  {
   "cell_type": "code",
   "execution_count": 630,
   "metadata": {},
   "outputs": [
    {
     "data": {
      "text/html": [
       "<div>\n",
       "<style scoped>\n",
       "    .dataframe tbody tr th:only-of-type {\n",
       "        vertical-align: middle;\n",
       "    }\n",
       "\n",
       "    .dataframe tbody tr th {\n",
       "        vertical-align: top;\n",
       "    }\n",
       "\n",
       "    .dataframe thead th {\n",
       "        text-align: right;\n",
       "    }\n",
       "</style>\n",
       "<table border=\"1\" class=\"dataframe\">\n",
       "  <thead>\n",
       "    <tr style=\"text-align: right;\">\n",
       "      <th></th>\n",
       "      <th>age</th>\n",
       "      <th>bp</th>\n",
       "      <th>sg</th>\n",
       "      <th>al</th>\n",
       "      <th>su</th>\n",
       "      <th>rbc</th>\n",
       "      <th>pc</th>\n",
       "      <th>pcc</th>\n",
       "      <th>ba</th>\n",
       "      <th>bgr</th>\n",
       "      <th>bu</th>\n",
       "      <th>sc</th>\n",
       "      <th>sod</th>\n",
       "      <th>pot</th>\n",
       "      <th>hemo</th>\n",
       "      <th>pcv</th>\n",
       "      <th>wc</th>\n",
       "      <th>rc</th>\n",
       "      <th>htn</th>\n",
       "      <th>dm</th>\n",
       "      <th>cad</th>\n",
       "      <th>appet</th>\n",
       "      <th>pe</th>\n",
       "      <th>ane</th>\n",
       "      <th>class</th>\n",
       "    </tr>\n",
       "  </thead>\n",
       "  <tbody>\n",
       "    <tr>\n",
       "      <th>0</th>\n",
       "      <td>48</td>\n",
       "      <td>80</td>\n",
       "      <td>1.02</td>\n",
       "      <td>1</td>\n",
       "      <td>0</td>\n",
       "      <td>?</td>\n",
       "      <td>normal</td>\n",
       "      <td>notpresent</td>\n",
       "      <td>notpresent</td>\n",
       "      <td>121</td>\n",
       "      <td>36</td>\n",
       "      <td>1.2</td>\n",
       "      <td>?</td>\n",
       "      <td>?</td>\n",
       "      <td>15.4</td>\n",
       "      <td>44</td>\n",
       "      <td>7800</td>\n",
       "      <td>5.2</td>\n",
       "      <td>yes</td>\n",
       "      <td>yes</td>\n",
       "      <td>no</td>\n",
       "      <td>good</td>\n",
       "      <td>no</td>\n",
       "      <td>no</td>\n",
       "      <td>ckd</td>\n",
       "    </tr>\n",
       "    <tr>\n",
       "      <th>1</th>\n",
       "      <td>7</td>\n",
       "      <td>50</td>\n",
       "      <td>1.02</td>\n",
       "      <td>4</td>\n",
       "      <td>0</td>\n",
       "      <td>?</td>\n",
       "      <td>normal</td>\n",
       "      <td>notpresent</td>\n",
       "      <td>notpresent</td>\n",
       "      <td>?</td>\n",
       "      <td>18</td>\n",
       "      <td>0.8</td>\n",
       "      <td>?</td>\n",
       "      <td>?</td>\n",
       "      <td>11.3</td>\n",
       "      <td>38</td>\n",
       "      <td>6000</td>\n",
       "      <td>?</td>\n",
       "      <td>no</td>\n",
       "      <td>no</td>\n",
       "      <td>no</td>\n",
       "      <td>good</td>\n",
       "      <td>no</td>\n",
       "      <td>no</td>\n",
       "      <td>ckd</td>\n",
       "    </tr>\n",
       "    <tr>\n",
       "      <th>2</th>\n",
       "      <td>62</td>\n",
       "      <td>80</td>\n",
       "      <td>1.01</td>\n",
       "      <td>2</td>\n",
       "      <td>3</td>\n",
       "      <td>normal</td>\n",
       "      <td>normal</td>\n",
       "      <td>notpresent</td>\n",
       "      <td>notpresent</td>\n",
       "      <td>423</td>\n",
       "      <td>53</td>\n",
       "      <td>1.8</td>\n",
       "      <td>?</td>\n",
       "      <td>?</td>\n",
       "      <td>9.6</td>\n",
       "      <td>31</td>\n",
       "      <td>7500</td>\n",
       "      <td>?</td>\n",
       "      <td>no</td>\n",
       "      <td>yes</td>\n",
       "      <td>no</td>\n",
       "      <td>poor</td>\n",
       "      <td>no</td>\n",
       "      <td>yes</td>\n",
       "      <td>ckd</td>\n",
       "    </tr>\n",
       "    <tr>\n",
       "      <th>3</th>\n",
       "      <td>48</td>\n",
       "      <td>70</td>\n",
       "      <td>1.005</td>\n",
       "      <td>4</td>\n",
       "      <td>0</td>\n",
       "      <td>normal</td>\n",
       "      <td>abnormal</td>\n",
       "      <td>present</td>\n",
       "      <td>notpresent</td>\n",
       "      <td>117</td>\n",
       "      <td>56</td>\n",
       "      <td>3.8</td>\n",
       "      <td>111</td>\n",
       "      <td>2.5</td>\n",
       "      <td>11.2</td>\n",
       "      <td>32</td>\n",
       "      <td>6700</td>\n",
       "      <td>3.9</td>\n",
       "      <td>yes</td>\n",
       "      <td>no</td>\n",
       "      <td>no</td>\n",
       "      <td>poor</td>\n",
       "      <td>yes</td>\n",
       "      <td>yes</td>\n",
       "      <td>ckd</td>\n",
       "    </tr>\n",
       "    <tr>\n",
       "      <th>4</th>\n",
       "      <td>51</td>\n",
       "      <td>80</td>\n",
       "      <td>1.01</td>\n",
       "      <td>2</td>\n",
       "      <td>0</td>\n",
       "      <td>normal</td>\n",
       "      <td>normal</td>\n",
       "      <td>notpresent</td>\n",
       "      <td>notpresent</td>\n",
       "      <td>106</td>\n",
       "      <td>26</td>\n",
       "      <td>1.4</td>\n",
       "      <td>?</td>\n",
       "      <td>?</td>\n",
       "      <td>11.6</td>\n",
       "      <td>35</td>\n",
       "      <td>7300</td>\n",
       "      <td>4.6</td>\n",
       "      <td>no</td>\n",
       "      <td>no</td>\n",
       "      <td>no</td>\n",
       "      <td>good</td>\n",
       "      <td>no</td>\n",
       "      <td>no</td>\n",
       "      <td>ckd</td>\n",
       "    </tr>\n",
       "  </tbody>\n",
       "</table>\n",
       "</div>"
      ],
      "text/plain": [
       "  age  bp     sg al su     rbc        pc         pcc          ba  bgr  bu  \\\n",
       "0  48  80   1.02  1  0       ?    normal  notpresent  notpresent  121  36   \n",
       "1   7  50   1.02  4  0       ?    normal  notpresent  notpresent    ?  18   \n",
       "2  62  80   1.01  2  3  normal    normal  notpresent  notpresent  423  53   \n",
       "3  48  70  1.005  4  0  normal  abnormal     present  notpresent  117  56   \n",
       "4  51  80   1.01  2  0  normal    normal  notpresent  notpresent  106  26   \n",
       "\n",
       "    sc  sod  pot  hemo pcv    wc   rc  htn   dm cad appet   pe  ane class  \n",
       "0  1.2    ?    ?  15.4  44  7800  5.2  yes  yes  no  good   no   no   ckd  \n",
       "1  0.8    ?    ?  11.3  38  6000    ?   no   no  no  good   no   no   ckd  \n",
       "2  1.8    ?    ?   9.6  31  7500    ?   no  yes  no  poor   no  yes   ckd  \n",
       "3  3.8  111  2.5  11.2  32  6700  3.9  yes   no  no  poor  yes  yes   ckd  \n",
       "4  1.4    ?    ?  11.6  35  7300  4.6   no   no  no  good   no   no   ckd  "
      ]
     },
     "execution_count": 630,
     "metadata": {},
     "output_type": "execute_result"
    }
   ],
   "source": [
    "df.head()"
   ]
  },
  {
   "cell_type": "code",
   "execution_count": 631,
   "metadata": {},
   "outputs": [
    {
     "data": {
      "text/html": [
       "<div>\n",
       "<style scoped>\n",
       "    .dataframe tbody tr th:only-of-type {\n",
       "        vertical-align: middle;\n",
       "    }\n",
       "\n",
       "    .dataframe tbody tr th {\n",
       "        vertical-align: top;\n",
       "    }\n",
       "\n",
       "    .dataframe thead th {\n",
       "        text-align: right;\n",
       "    }\n",
       "</style>\n",
       "<table border=\"1\" class=\"dataframe\">\n",
       "  <thead>\n",
       "    <tr style=\"text-align: right;\">\n",
       "      <th></th>\n",
       "      <th>age</th>\n",
       "      <th>bp</th>\n",
       "      <th>sg</th>\n",
       "      <th>al</th>\n",
       "      <th>su</th>\n",
       "      <th>rbc</th>\n",
       "      <th>pc</th>\n",
       "      <th>pcc</th>\n",
       "      <th>ba</th>\n",
       "      <th>bgr</th>\n",
       "      <th>bu</th>\n",
       "      <th>sc</th>\n",
       "      <th>sod</th>\n",
       "      <th>pot</th>\n",
       "      <th>hemo</th>\n",
       "      <th>pcv</th>\n",
       "      <th>wc</th>\n",
       "      <th>rc</th>\n",
       "      <th>htn</th>\n",
       "      <th>dm</th>\n",
       "      <th>cad</th>\n",
       "      <th>appet</th>\n",
       "      <th>pe</th>\n",
       "      <th>ane</th>\n",
       "      <th>class</th>\n",
       "    </tr>\n",
       "  </thead>\n",
       "  <tbody>\n",
       "    <tr>\n",
       "      <th>395</th>\n",
       "      <td>55</td>\n",
       "      <td>80</td>\n",
       "      <td>1.02</td>\n",
       "      <td>0</td>\n",
       "      <td>0</td>\n",
       "      <td>normal</td>\n",
       "      <td>normal</td>\n",
       "      <td>notpresent</td>\n",
       "      <td>notpresent</td>\n",
       "      <td>140</td>\n",
       "      <td>49</td>\n",
       "      <td>0.5</td>\n",
       "      <td>150</td>\n",
       "      <td>4.9</td>\n",
       "      <td>15.7</td>\n",
       "      <td>47</td>\n",
       "      <td>6700</td>\n",
       "      <td>4.9</td>\n",
       "      <td>no</td>\n",
       "      <td>no</td>\n",
       "      <td>no</td>\n",
       "      <td>good</td>\n",
       "      <td>no</td>\n",
       "      <td>no</td>\n",
       "      <td>notckd</td>\n",
       "    </tr>\n",
       "    <tr>\n",
       "      <th>396</th>\n",
       "      <td>42</td>\n",
       "      <td>70</td>\n",
       "      <td>1.025</td>\n",
       "      <td>0</td>\n",
       "      <td>0</td>\n",
       "      <td>normal</td>\n",
       "      <td>normal</td>\n",
       "      <td>notpresent</td>\n",
       "      <td>notpresent</td>\n",
       "      <td>75</td>\n",
       "      <td>31</td>\n",
       "      <td>1.2</td>\n",
       "      <td>141</td>\n",
       "      <td>3.5</td>\n",
       "      <td>16.5</td>\n",
       "      <td>54</td>\n",
       "      <td>7800</td>\n",
       "      <td>6.2</td>\n",
       "      <td>no</td>\n",
       "      <td>no</td>\n",
       "      <td>no</td>\n",
       "      <td>good</td>\n",
       "      <td>no</td>\n",
       "      <td>no</td>\n",
       "      <td>notckd</td>\n",
       "    </tr>\n",
       "    <tr>\n",
       "      <th>397</th>\n",
       "      <td>12</td>\n",
       "      <td>80</td>\n",
       "      <td>1.02</td>\n",
       "      <td>0</td>\n",
       "      <td>0</td>\n",
       "      <td>normal</td>\n",
       "      <td>normal</td>\n",
       "      <td>notpresent</td>\n",
       "      <td>notpresent</td>\n",
       "      <td>100</td>\n",
       "      <td>26</td>\n",
       "      <td>0.6</td>\n",
       "      <td>137</td>\n",
       "      <td>4.4</td>\n",
       "      <td>15.8</td>\n",
       "      <td>49</td>\n",
       "      <td>6600</td>\n",
       "      <td>5.4</td>\n",
       "      <td>no</td>\n",
       "      <td>no</td>\n",
       "      <td>no</td>\n",
       "      <td>good</td>\n",
       "      <td>no</td>\n",
       "      <td>no</td>\n",
       "      <td>notckd</td>\n",
       "    </tr>\n",
       "    <tr>\n",
       "      <th>398</th>\n",
       "      <td>17</td>\n",
       "      <td>60</td>\n",
       "      <td>1.025</td>\n",
       "      <td>0</td>\n",
       "      <td>0</td>\n",
       "      <td>normal</td>\n",
       "      <td>normal</td>\n",
       "      <td>notpresent</td>\n",
       "      <td>notpresent</td>\n",
       "      <td>114</td>\n",
       "      <td>50</td>\n",
       "      <td>1</td>\n",
       "      <td>135</td>\n",
       "      <td>4.9</td>\n",
       "      <td>14.2</td>\n",
       "      <td>51</td>\n",
       "      <td>7200</td>\n",
       "      <td>5.9</td>\n",
       "      <td>no</td>\n",
       "      <td>no</td>\n",
       "      <td>no</td>\n",
       "      <td>good</td>\n",
       "      <td>no</td>\n",
       "      <td>no</td>\n",
       "      <td>notckd</td>\n",
       "    </tr>\n",
       "    <tr>\n",
       "      <th>399</th>\n",
       "      <td>58</td>\n",
       "      <td>80</td>\n",
       "      <td>1.025</td>\n",
       "      <td>0</td>\n",
       "      <td>0</td>\n",
       "      <td>normal</td>\n",
       "      <td>normal</td>\n",
       "      <td>notpresent</td>\n",
       "      <td>notpresent</td>\n",
       "      <td>131</td>\n",
       "      <td>18</td>\n",
       "      <td>1.1</td>\n",
       "      <td>141</td>\n",
       "      <td>3.5</td>\n",
       "      <td>15.8</td>\n",
       "      <td>53</td>\n",
       "      <td>6800</td>\n",
       "      <td>6.1</td>\n",
       "      <td>no</td>\n",
       "      <td>no</td>\n",
       "      <td>no</td>\n",
       "      <td>good</td>\n",
       "      <td>no</td>\n",
       "      <td>no</td>\n",
       "      <td>notckd</td>\n",
       "    </tr>\n",
       "  </tbody>\n",
       "</table>\n",
       "</div>"
      ],
      "text/plain": [
       "    age  bp     sg al su     rbc      pc         pcc          ba  bgr  bu  \\\n",
       "395  55  80   1.02  0  0  normal  normal  notpresent  notpresent  140  49   \n",
       "396  42  70  1.025  0  0  normal  normal  notpresent  notpresent   75  31   \n",
       "397  12  80   1.02  0  0  normal  normal  notpresent  notpresent  100  26   \n",
       "398  17  60  1.025  0  0  normal  normal  notpresent  notpresent  114  50   \n",
       "399  58  80  1.025  0  0  normal  normal  notpresent  notpresent  131  18   \n",
       "\n",
       "      sc  sod  pot  hemo pcv    wc   rc htn  dm cad appet  pe ane   class  \n",
       "395  0.5  150  4.9  15.7  47  6700  4.9  no  no  no  good  no  no  notckd  \n",
       "396  1.2  141  3.5  16.5  54  7800  6.2  no  no  no  good  no  no  notckd  \n",
       "397  0.6  137  4.4  15.8  49  6600  5.4  no  no  no  good  no  no  notckd  \n",
       "398    1  135  4.9  14.2  51  7200  5.9  no  no  no  good  no  no  notckd  \n",
       "399  1.1  141  3.5  15.8  53  6800  6.1  no  no  no  good  no  no  notckd  "
      ]
     },
     "execution_count": 631,
     "metadata": {},
     "output_type": "execute_result"
    }
   ],
   "source": [
    "df.tail()"
   ]
  },
  {
   "cell_type": "code",
   "execution_count": 632,
   "metadata": {},
   "outputs": [],
   "source": [
    "# 11 columns\n",
    "numerical_attributes = ['age', 'bp',  'bgr', 'bu','sc', 'sod', 'pot', 'hemo', 'pcv', 'wc', 'rc'] \n",
    " # 14 columns\n",
    "nominal_attributes = ['sg','al', 'su', 'rbc', 'pc', 'pcc', 'ba', 'htn', 'dm', 'cad','appet', 'pe', 'ane', 'class'] "
   ]
  },
  {
   "cell_type": "code",
   "execution_count": 633,
   "metadata": {},
   "outputs": [
    {
     "name": "stdout",
     "output_type": "stream",
     "text": [
      "<class 'pandas.core.frame.DataFrame'>\n",
      "RangeIndex: 400 entries, 0 to 399\n",
      "Data columns (total 25 columns):\n",
      " #   Column  Non-Null Count  Dtype \n",
      "---  ------  --------------  ----- \n",
      " 0   age     400 non-null    object\n",
      " 1   bp      400 non-null    object\n",
      " 2   sg      400 non-null    object\n",
      " 3   al      400 non-null    object\n",
      " 4   su      400 non-null    object\n",
      " 5   rbc     400 non-null    object\n",
      " 6   pc      400 non-null    object\n",
      " 7   pcc     400 non-null    object\n",
      " 8   ba      400 non-null    object\n",
      " 9   bgr     400 non-null    object\n",
      " 10  bu      400 non-null    object\n",
      " 11  sc      400 non-null    object\n",
      " 12  sod     400 non-null    object\n",
      " 13  pot     400 non-null    object\n",
      " 14  hemo    400 non-null    object\n",
      " 15  pcv     400 non-null    object\n",
      " 16  wc      400 non-null    object\n",
      " 17  rc      400 non-null    object\n",
      " 18  htn     400 non-null    object\n",
      " 19  dm      400 non-null    object\n",
      " 20  cad     400 non-null    object\n",
      " 21  appet   400 non-null    object\n",
      " 22  pe      400 non-null    object\n",
      " 23  ane     400 non-null    object\n",
      " 24  class   400 non-null    object\n",
      "dtypes: object(25)\n",
      "memory usage: 78.2+ KB\n"
     ]
    }
   ],
   "source": [
    "df.info()"
   ]
  },
  {
   "cell_type": "code",
   "execution_count": 634,
   "metadata": {},
   "outputs": [],
   "source": [
    "df.replace(['?', '?\\t', '\\t?'], np.nan, inplace=True)"
   ]
  },
  {
   "cell_type": "code",
   "execution_count": 635,
   "metadata": {},
   "outputs": [],
   "source": [
    "# convert  columns object to numeric\n",
    "df[[\"age\", \"bp\",\"sg\", \"al\", \"su\",\"bgr\", \"bu\",\n",
    "       \"sc\", \"sod\", \"pot\", \"hemo\", \"pcv\", \"wc\", \"rc\"]] = df[[\"age\", \"bp\",\"sg\", \"al\", \"su\",\"bgr\", \"bu\",\n",
    "       \"sc\", \"sod\", \"pot\", \"hemo\", \"pcv\", \"wc\", \"rc\"]].apply(pd.to_numeric)"
   ]
  },
  {
   "cell_type": "markdown",
   "metadata": {},
   "source": [
    "### Check for duplicate data"
   ]
  },
  {
   "cell_type": "code",
   "execution_count": 636,
   "metadata": {},
   "outputs": [
    {
     "data": {
      "text/plain": [
       "0"
      ]
     },
     "execution_count": 636,
     "metadata": {},
     "output_type": "execute_result"
    }
   ],
   "source": [
    " df.duplicated().sum()"
   ]
  },
  {
   "cell_type": "markdown",
   "metadata": {},
   "source": [
    "### check for missing values"
   ]
  },
  {
   "cell_type": "code",
   "execution_count": 637,
   "metadata": {},
   "outputs": [
    {
     "data": {
      "text/plain": [
       "<AxesSubplot:>"
      ]
     },
     "execution_count": 637,
     "metadata": {},
     "output_type": "execute_result"
    },
    {
     "data": {
      "image/png": "[encoded data removed]",
      "text/plain": [
       "<Figure size 432x288 with 2 Axes>"
      ]
     },
     "metadata": {
      "needs_background": "light"
     },
     "output_type": "display_data"
    }
   ],
   "source": [
    "cols =df.columns\n",
    "colours = ['#A52A2A','#AAFF32' ] # specify the colours - LIME is missing. BROWN is not missing.\n",
    "sns.heatmap(df[cols].isnull(), cmap=sns.color_palette(colours))"
   ]
  },
  {
   "cell_type": "code",
   "execution_count": 638,
   "metadata": {},
   "outputs": [
    {
     "name": "stdout",
     "output_type": "stream",
     "text": [
      "age - 2%\n",
      "bp - 3%\n",
      "sg - 12%\n",
      "al - 12%\n",
      "su - 12%\n",
      "rbc - 38%\n",
      "pc - 16%\n",
      "pcc - 1%\n",
      "ba - 1%\n",
      "bgr - 11%\n",
      "bu - 5%\n",
      "sc - 4%\n",
      "sod - 22%\n",
      "pot - 22%\n",
      "hemo - 13%\n",
      "pcv - 18%\n",
      "wc - 26%\n",
      "rc - 33%\n",
      "htn - 0%\n",
      "dm - 0%\n",
      "cad - 0%\n",
      "appet - 0%\n",
      "pe - 0%\n",
      "ane - 0%\n",
      "class - 0%\n"
     ]
    }
   ],
   "source": [
    "# calculating the % of missing data in each column.\n",
    "for col in df.columns:\n",
    "    pct_missing = np.mean(df[col].isnull())\n",
    "    print('{} - {}%'.format(col, round(pct_missing*100)))"
   ]
  },
  {
   "cell_type": "markdown",
   "metadata": {},
   "source": [
    "#### Since We have missing values, we need to process for those missing values."
   ]
  },
  {
   "cell_type": "code",
   "execution_count": 639,
   "metadata": {},
   "outputs": [],
   "source": [
    "data_2=df.copy()"
   ]
  },
  {
   "cell_type": "code",
   "execution_count": 640,
   "metadata": {},
   "outputs": [
    {
     "data": {
      "text/plain": [
       "<matplotlib.legend.Legend at 0x26c587d8dc0>"
      ]
     },
     "execution_count": 640,
     "metadata": {},
     "output_type": "execute_result"
    },
    {
     "data": {
      "image/png": "[encoded data removed]",
      "text/plain": [
       "<Figure size 432x288 with 1 Axes>"
      ]
     },
     "metadata": {
      "needs_background": "light"
     },
     "output_type": "display_data"
    }
   ],
   "source": [
    "#sg column \n",
    "sg_mean = data_2.sg.mean()\n",
    "sg_median = data_2.sg.median()\n",
    "data_2['sg_mean'] = data_2.sg.fillna(sg_mean)\n",
    "data_2['sg_median'] = data_2.sg.fillna(sg_median)\n",
    "data_2['new_sg'] = data_2['sg'].fillna(method=\"ffill\")\n",
    "data_2['sg_new'] = data_2['sg'].fillna(method=\"ffill\")\n",
    "#Now let's draw the new columns\n",
    "sns.kdeplot(data_2['sg_mean'],color='red',label='Mean')\n",
    "sns.kdeplot(data_2['sg_median'],color='blue',label='Median')\n",
    "sns.kdeplot(data_2['new_sg'] ,color='yellow',label='ffill')\n",
    "sns.kdeplot(data_2['sg_new'] ,color='green',label='ffill')\n",
    "sns.kdeplot(data_2['sg'],color='black',label='Original')\n",
    "plt.legend()"
   ]
  },
  {
   "cell_type": "code",
   "execution_count": 641,
   "metadata": {},
   "outputs": [],
   "source": [
    "#looking after all techniques in order to compensate for the missing values,third and fourth technique is the most suitable in the distribution \n",
    "df['sg']=data_2['new_sg']"
   ]
  },
  {
   "cell_type": "code",
   "execution_count": 642,
   "metadata": {},
   "outputs": [
    {
     "data": {
      "text/plain": [
       "<matplotlib.legend.Legend at 0x26c5b73c6a0>"
      ]
     },
     "execution_count": 642,
     "metadata": {},
     "output_type": "execute_result"
    },
    {
     "data": {
      "image/png": "[encoded data removed]",
      "text/plain": [
       "<Figure size 432x288 with 1 Axes>"
      ]
     },
     "metadata": {
      "needs_background": "light"
     },
     "output_type": "display_data"
    }
   ],
   "source": [
    "# al column\n",
    "al_mean = data_2.al.mean()\n",
    "al_median = data_2.al.median()\n",
    "data_2['al_mean'] = data_2.al.fillna(al_mean)\n",
    "data_2['al_median'] = data_2.al.fillna(al_median)\n",
    "data_2['new_al'] = data_2['al'].fillna(method=\"ffill\")\n",
    "data_2['al_new'] = data_2['al'].fillna(method=\"ffill\")\n",
    "#Now let's draw the new columns\n",
    "sns.kdeplot(data_2['al_mean'],color='red',label='Mean')\n",
    "sns.kdeplot(data_2['al_median'],color='blue',label='Median')\n",
    "sns.kdeplot(data_2['new_al'] ,color='yellow',label='ffill')\n",
    "sns.kdeplot(data_2['al_new'] ,color='green',label='ffill')\n",
    "sns.kdeplot(data_2['al'],color='black',label='Original')\n",
    "plt.legend()"
   ]
  },
  {
   "cell_type": "code",
   "execution_count": 643,
   "metadata": {},
   "outputs": [],
   "source": [
    "df['al']=data_2['new_al']"
   ]
  },
  {
   "cell_type": "code",
   "execution_count": 644,
   "metadata": {},
   "outputs": [
    {
     "data": {
      "text/plain": [
       "<matplotlib.legend.Legend at 0x26c59698070>"
      ]
     },
     "execution_count": 644,
     "metadata": {},
     "output_type": "execute_result"
    },
    {
     "data": {
      "image/png": "[encoded data removed]",
      "text/plain": [
       "<Figure size 432x288 with 1 Axes>"
      ]
     },
     "metadata": {
      "needs_background": "light"
     },
     "output_type": "display_data"
    }
   ],
   "source": [
    "#hemo column\n",
    "hemo_mean = data_2.hemo.mean()\n",
    "hemo_median = data_2.hemo.median()\n",
    "data_2['hemo_mean'] = data_2.hemo.fillna(hemo_mean)\n",
    "data_2['hemo_median'] = data_2.hemo.fillna(hemo_median)\n",
    "data_2['new_hemo'] = data_2['hemo'].fillna(method=\"ffill\")\n",
    "data_2['hemo_new'] = data_2['hemo'].fillna(method=\"ffill\")\n",
    "#Now let's draw the new columns\n",
    "sns.kdeplot(data_2['hemo_mean'],color='red',label='Mean')\n",
    "sns.kdeplot(data_2['hemo_median'],color='blue',label='Median')\n",
    "sns.kdeplot(data_2['new_hemo'] ,color='yellow',label='ffill')\n",
    "sns.kdeplot(data_2['hemo_new'] ,color='green',label='ffill')\n",
    "sns.kdeplot(data_2['hemo'],color='black',label='Original')\n",
    "plt.legend()"
   ]
  },
  {
   "cell_type": "code",
   "execution_count": 645,
   "metadata": {},
   "outputs": [],
   "source": [
    "df['hemo']=data_2['hemo_new']"
   ]
  },
  {
   "cell_type": "code",
   "execution_count": 646,
   "metadata": {},
   "outputs": [
    {
     "data": {
      "text/plain": [
       "71"
      ]
     },
     "execution_count": 646,
     "metadata": {},
     "output_type": "execute_result"
    }
   ],
   "source": [
    "#pcv column\n",
    "df['pcv'].isnull().sum()"
   ]
  },
  {
   "cell_type": "code",
   "execution_count": 647,
   "metadata": {},
   "outputs": [
    {
     "data": {
      "text/plain": [
       "41.0    21\n",
       "52.0    21\n",
       "44.0    19\n",
       "48.0    19\n",
       "40.0    16\n",
       "43.0    15\n",
       "42.0    13\n",
       "45.0    13\n",
       "33.0    12\n",
       "28.0    12\n",
       "50.0    12\n",
       "36.0    12\n",
       "32.0    12\n",
       "37.0    11\n",
       "34.0    11\n",
       "46.0     9\n",
       "35.0     9\n",
       "30.0     9\n",
       "29.0     9\n",
       "31.0     8\n",
       "39.0     7\n",
       "24.0     7\n",
       "26.0     6\n",
       "38.0     5\n",
       "54.0     4\n",
       "51.0     4\n",
       "53.0     4\n",
       "49.0     4\n",
       "47.0     4\n",
       "27.0     3\n",
       "25.0     3\n",
       "22.0     3\n",
       "19.0     2\n",
       "23.0     2\n",
       "16.0     1\n",
       "15.0     1\n",
       "21.0     1\n",
       "20.0     1\n",
       "17.0     1\n",
       "9.0      1\n",
       "18.0     1\n",
       "14.0     1\n",
       "Name: pcv, dtype: int64"
      ]
     },
     "execution_count": 647,
     "metadata": {},
     "output_type": "execute_result"
    }
   ],
   "source": [
    "df['pcv'].value_counts()"
   ]
  },
  {
   "cell_type": "code",
   "execution_count": 648,
   "metadata": {},
   "outputs": [
    {
     "data": {
      "text/plain": [
       "<matplotlib.legend.Legend at 0x26c60775670>"
      ]
     },
     "execution_count": 648,
     "metadata": {},
     "output_type": "execute_result"
    },
    {
     "data": {
      "image/png": "[encoded data removed]",
      "text/plain": [
       "<Figure size 432x288 with 1 Axes>"
      ]
     },
     "metadata": {
      "needs_background": "light"
     },
     "output_type": "display_data"
    }
   ],
   "source": [
    "#column has an error in the data\n",
    "pcv_mean = data_2.pcv.mean()\n",
    "pcv_median = data_2.pcv.median()\n",
    "data_2['pcv_mean'] = data_2.pcv.fillna(pcv_mean)\n",
    "data_2['pcv_median'] = data_2.pcv.fillna(pcv_median)\n",
    "data_2['new_pcv'] = data_2['pcv'].fillna(method=\"ffill\")\n",
    "data_2['pcv_new'] = data_2['pcv'].fillna(method=\"ffill\")\n",
    "#Now let's draw the new columns\n",
    "sns.kdeplot(data_2['pcv_mean'],color='red',label='Mean')\n",
    "sns.kdeplot(data_2['pcv_median'],color='blue',label='Median')\n",
    "sns.kdeplot(data_2['new_pcv'] ,color='yellow',label='ffill')\n",
    "sns.kdeplot(data_2['pcv_new'] ,color='green',label='ffill')\n",
    "sns.kdeplot(data_2['pcv'],color='black',label='Original')\n",
    "plt.legend()"
   ]
  },
  {
   "cell_type": "code",
   "execution_count": 649,
   "metadata": {},
   "outputs": [],
   "source": [
    "df['pcv']=data_2['pcv_new']"
   ]
  },
  {
   "cell_type": "code",
   "execution_count": 650,
   "metadata": {},
   "outputs": [
    {
     "data": {
      "text/plain": [
       "<matplotlib.legend.Legend at 0x26c5f225cd0>"
      ]
     },
     "execution_count": 650,
     "metadata": {},
     "output_type": "execute_result"
    },
    {
     "data": {
      "image/png": "[encoded data removed]",
      "text/plain": [
       "<Figure size 432x288 with 1 Axes>"
      ]
     },
     "metadata": {
      "needs_background": "light"
     },
     "output_type": "display_data"
    }
   ],
   "source": [
    "#wc column\n",
    "\n",
    "wc_mean = data_2.wc.mean()\n",
    "wc_median = data_2.wc.median()\n",
    "data_2['wc_mean'] = data_2.wc.fillna(wc_mean)\n",
    "data_2['wc_median'] = data_2.wc.fillna(wc_median)\n",
    "data_2['new_wc'] = data_2['wc'].fillna(method=\"ffill\")\n",
    "data_2['wc_new'] = data_2['wc'].fillna(method=\"ffill\")\n",
    "#Now let's draw the new columns\n",
    "sns.kdeplot(data_2['wc_mean'],color='red',label='Mean')\n",
    "sns.kdeplot(data_2['wc_median'],color='blue',label='Median')\n",
    "sns.kdeplot(data_2['new_wc'] ,color='yellow',label='ffill')\n",
    "sns.kdeplot(data_2['wc_new'] ,color='green',label='ffill')\n",
    "sns.kdeplot(data_2['wc'],color='black',label='Original')\n",
    "plt.legend()"
   ]
  },
  {
   "cell_type": "code",
   "execution_count": 651,
   "metadata": {},
   "outputs": [],
   "source": [
    "df['wc']=data_2['wc_new']"
   ]
  },
  {
   "cell_type": "code",
   "execution_count": 652,
   "metadata": {},
   "outputs": [
    {
     "data": {
      "text/plain": [
       "<matplotlib.legend.Legend at 0x26c5bfaefa0>"
      ]
     },
     "execution_count": 652,
     "metadata": {},
     "output_type": "execute_result"
    },
    {
     "data": {
      "image/png": "[encoded data removed]",
      "text/plain": [
       "<Figure size 432x288 with 1 Axes>"
      ]
     },
     "metadata": {
      "needs_background": "light"
     },
     "output_type": "display_data"
    }
   ],
   "source": [
    "rc_mean = data_2.rc.mean()\n",
    "rc_median = data_2.rc.median()\n",
    "data_2['rc_mean'] = data_2.rc.fillna(rc_mean)\n",
    "data_2['rc_median'] = data_2.rc.fillna(rc_median)\n",
    "data_2['new_rc'] = data_2['rc'].fillna(method=\"ffill\")\n",
    "data_2['rc_new'] = data_2['rc'].fillna(method=\"ffill\")\n",
    "#Now let's draw the new columns\n",
    "sns.kdeplot(data_2['rc_mean'],color='red',label='Mean')\n",
    "sns.kdeplot(data_2['rc_median'],color='blue',label='Median')\n",
    "sns.kdeplot(data_2['new_rc'] ,color='yellow',label='ffill')\n",
    "sns.kdeplot(data_2['rc_new'] ,color='green',label='ffill')\n",
    "sns.kdeplot(data_2['rc'],color='black',label='Original')\n",
    "plt.legend()"
   ]
  },
  {
   "cell_type": "code",
   "execution_count": 653,
   "metadata": {},
   "outputs": [],
   "source": [
    "df['rc']=data_2['rc_new']"
   ]
  },
  {
   "cell_type": "code",
   "execution_count": 654,
   "metadata": {},
   "outputs": [
    {
     "data": {
      "text/plain": [
       "152"
      ]
     },
     "execution_count": 654,
     "metadata": {},
     "output_type": "execute_result"
    }
   ],
   "source": [
    "#rbc column\n",
    "df['rbc'].isnull().sum()"
   ]
  },
  {
   "cell_type": "code",
   "execution_count": 655,
   "metadata": {},
   "outputs": [
    {
     "data": {
      "text/plain": [
       "normal      201\n",
       "abnormal     47\n",
       "Name: rbc, dtype: int64"
      ]
     },
     "execution_count": 655,
     "metadata": {},
     "output_type": "execute_result"
    }
   ],
   "source": [
    "df['rbc'].value_counts()"
   ]
  },
  {
   "cell_type": "code",
   "execution_count": 656,
   "metadata": {},
   "outputs": [
    {
     "data": {
      "text/plain": [
       "<AxesSubplot:>"
      ]
     },
     "execution_count": 656,
     "metadata": {},
     "output_type": "execute_result"
    },
    {
     "data": {
      "image/png": "[encoded data removed]",
      "text/plain": [
       "<Figure size 432x288 with 1 Axes>"
      ]
     },
     "metadata": {
      "needs_background": "light"
     },
     "output_type": "display_data"
    }
   ],
   "source": [
    "df['rbc'].value_counts().plot.bar(color='grey')"
   ]
  },
  {
   "cell_type": "code",
   "execution_count": 657,
   "metadata": {},
   "outputs": [],
   "source": [
    "df['rbc'].fillna(method='ffill', inplace=True)"
   ]
  },
  {
   "cell_type": "code",
   "execution_count": 658,
   "metadata": {},
   "outputs": [
    {
     "data": {
      "text/plain": [
       "2"
      ]
     },
     "execution_count": 658,
     "metadata": {},
     "output_type": "execute_result"
    }
   ],
   "source": [
    "df['rbc'].isnull().sum()"
   ]
  },
  {
   "cell_type": "code",
   "execution_count": 659,
   "metadata": {},
   "outputs": [
    {
     "data": {
      "text/plain": [
       "normal      289\n",
       "abnormal    109\n",
       "Name: rbc, dtype: int64"
      ]
     },
     "execution_count": 659,
     "metadata": {},
     "output_type": "execute_result"
    }
   ],
   "source": [
    "df['rbc'].value_counts()"
   ]
  },
  {
   "cell_type": "code",
   "execution_count": 660,
   "metadata": {},
   "outputs": [
    {
     "name": "stdout",
     "output_type": "stream",
     "text": [
      "0\n"
     ]
    }
   ],
   "source": [
    "#pot column\n",
    "data_2['pot']=df['pot']\n",
    "pot_mean = data_2.pot.mean()\n",
    "data_2['pot_mean'] = data_2.pot.fillna(pot_mean)\n",
    "\n",
    "df['pot']=data_2['pot_mean']\n",
    "print(df['pot'].isnull().sum())"
   ]
  },
  {
   "cell_type": "code",
   "execution_count": 661,
   "metadata": {},
   "outputs": [
    {
     "name": "stdout",
     "output_type": "stream",
     "text": [
      "0\n"
     ]
    }
   ],
   "source": [
    "#sod column\n",
    "data_2['sod']=df['sod']\n",
    "sod_mean = data_2.sod.mean()\n",
    "data_2['sod_mean'] = data_2.sod.fillna(sod_mean)\n",
    "\n",
    "df['sod']=data_2['sod_mean']\n",
    "print(df['sod'].isnull().sum())"
   ]
  },
  {
   "cell_type": "code",
   "execution_count": 662,
   "metadata": {},
   "outputs": [],
   "source": [
    "imp_nominal = SimpleImputer(strategy=\"most_frequent\")\n",
    "imp_numeric = SimpleImputer(missing_values=np.nan, strategy='mean')\n",
    "\n",
    "df[nominal_attributes] = imp_nominal.fit_transform(df[nominal_attributes])\n",
    "df[numerical_attributes] = imp_numeric.fit_transform(df[numerical_attributes])"
   ]
  },
  {
   "cell_type": "code",
   "execution_count": 663,
   "metadata": {},
   "outputs": [
    {
     "name": "stdout",
     "output_type": "stream",
     "text": [
      "age - 0%\n",
      "bp - 0%\n",
      "sg - 0%\n",
      "al - 0%\n",
      "su - 0%\n",
      "rbc - 0%\n",
      "pc - 0%\n",
      "pcc - 0%\n",
      "ba - 0%\n",
      "bgr - 0%\n",
      "bu - 0%\n",
      "sc - 0%\n",
      "sod - 0%\n",
      "pot - 0%\n",
      "hemo - 0%\n",
      "pcv - 0%\n",
      "wc - 0%\n",
      "rc - 0%\n",
      "htn - 0%\n",
      "dm - 0%\n",
      "cad - 0%\n",
      "appet - 0%\n",
      "pe - 0%\n",
      "ane - 0%\n",
      "class - 0%\n"
     ]
    }
   ],
   "source": [
    "# again checking for missing %\n",
    "for col in df.columns:\n",
    "    pct_missing = np.mean(df[col].isnull())\n",
    "    print('{} - {}%'.format(col, round(pct_missing*100)))"
   ]
  },
  {
   "cell_type": "code",
   "execution_count": 664,
   "metadata": {},
   "outputs": [
    {
     "data": {
      "text/plain": [
       "ckd       250\n",
       "notckd    150\n",
       "Name: class, dtype: int64"
      ]
     },
     "execution_count": 664,
     "metadata": {},
     "output_type": "execute_result"
    }
   ],
   "source": [
    "df['class'].value_counts()"
   ]
  },
  {
   "cell_type": "markdown",
   "metadata": {},
   "source": [
    "### Data balance check"
   ]
  },
  {
   "cell_type": "code",
   "execution_count": 665,
   "metadata": {},
   "outputs": [
    {
     "data": {
      "image/png": "[encoded data removed]",
      "text/plain": [
       "<Figure size 360x432 with 1 Axes>"
      ]
     },
     "metadata": {
      "needs_background": "light"
     },
     "output_type": "display_data"
    }
   ],
   "source": [
    "ax = df[\"class\"].value_counts().plot(kind='bar', figsize=(5, 6), fontsize=10, color='green')\n",
    "ax.set_title('Total cases ', size=20, pad=30)\n",
    "ax.set_ylabel('Number of patients', fontsize=14)\n",
    "\n",
    "for i in ax.patches:\n",
    "    ax.text(i.get_x() + 0.19, i.get_height() + 70, str(round(i.get_height(), 2)), fontsize=10)"
   ]
  },
  {
   "cell_type": "code",
   "execution_count": 666,
   "metadata": {},
   "outputs": [],
   "source": [
    "labelencoder = LabelEncoder()\n",
    "df[nominal_attributes] = df[nominal_attributes].apply(labelencoder.fit_transform)\n",
    "df = df.astype(float)"
   ]
  },
  {
   "cell_type": "markdown",
   "metadata": {},
   "source": [
    "### checking for correlation "
   ]
  },
  {
   "cell_type": "code",
   "execution_count": 667,
   "metadata": {},
   "outputs": [
    {
     "name": "stdout",
     "output_type": "stream",
     "text": [
      "Heatmap for correlation of the attributes:\n"
     ]
    },
    {
     "data": {
      "image/png": "[encoded data removed]",
      "text/plain": [
       "<Figure size 1080x720 with 2 Axes>"
      ]
     },
     "metadata": {
      "needs_background": "light"
     },
     "output_type": "display_data"
    }
   ],
   "source": [
    "# Check if any of the attributes are corelated using the the heatmap\n",
    "corr = df.iloc[:, 0:-1].astype(float).corr(method='spearman').abs()\n",
    "print(\"Heatmap for correlation of the attributes:\")\n",
    "ax = plt.subplots(figsize=(15,10)) \n",
    "sns.heatmap(corr, xticklabels=corr.columns, yticklabels=corr.columns, cmap=sns.diverging_palette(220, 10, as_cmap=True))\n",
    "plt.show()"
   ]
  },
  {
   "cell_type": "code",
   "execution_count": 668,
   "metadata": {},
   "outputs": [],
   "source": [
    "# Select upper triangle of correlation matrix\n",
    "upper = corr.where(np.triu(np.ones(corr.shape), k=1).astype(np.bool))\n",
    "# Find index of feature columns with correlation greater than 0.9\n",
    "to_drop = [column for column in upper.columns if any(upper[column] > 0.9)]\n",
    "df = df.drop(columns=to_drop)"
   ]
  },
  {
   "cell_type": "code",
   "execution_count": 669,
   "metadata": {},
   "outputs": [],
   "source": [
    "# Divide X and y based on the features and class attribute\n",
    "X = df.iloc[:, 0:-1]\n",
    "y = df.iloc[:, -1]\n",
    "\n",
    "# Split the training and test data set\n",
    "X_train, X_test, y_train, y_test = train_test_split(X,y, test_size=0.33, random_state=2)"
   ]
  },
  {
   "cell_type": "markdown",
   "metadata": {},
   "source": [
    "### Plotting the histogram for the attribute values\n"
   ]
  },
  {
   "cell_type": "code",
   "execution_count": 670,
   "metadata": {},
   "outputs": [
    {
     "name": "stdout",
     "output_type": "stream",
     "text": [
      "Histogram plots for the attributes:\n"
     ]
    },
    {
     "data": {
      "image/png": "[encoded data removed]",
      "text/plain": [
       "<Figure size 1080x1080 with 25 Axes>"
      ]
     },
     "metadata": {
      "needs_background": "light"
     },
     "output_type": "display_data"
    }
   ],
   "source": [
    "print(\"Histogram plots for the attributes:\")\n",
    "hist = X.hist(figsize=[15,15])\n",
    "plt.show()"
   ]
  },
  {
   "cell_type": "markdown",
   "metadata": {},
   "source": [
    "### minmax scale & checking for outliers"
   ]
  },
  {
   "cell_type": "code",
   "execution_count": 671,
   "metadata": {},
   "outputs": [
    {
     "name": "stdout",
     "output_type": "stream",
     "text": [
      "Statistics and box plot for the Numerical attributes:\n"
     ]
    },
    {
     "data": {
      "text/html": [
       "<div>\n",
       "<style scoped>\n",
       "    .dataframe tbody tr th:only-of-type {\n",
       "        vertical-align: middle;\n",
       "    }\n",
       "\n",
       "    .dataframe tbody tr th {\n",
       "        vertical-align: top;\n",
       "    }\n",
       "\n",
       "    .dataframe thead th {\n",
       "        text-align: right;\n",
       "    }\n",
       "</style>\n",
       "<table border=\"1\" class=\"dataframe\">\n",
       "  <thead>\n",
       "    <tr style=\"text-align: right;\">\n",
       "      <th></th>\n",
       "      <th>age</th>\n",
       "      <th>bp</th>\n",
       "      <th>sg</th>\n",
       "      <th>al</th>\n",
       "      <th>su</th>\n",
       "      <th>rbc</th>\n",
       "      <th>pc</th>\n",
       "      <th>pcc</th>\n",
       "      <th>ba</th>\n",
       "      <th>bgr</th>\n",
       "      <th>bu</th>\n",
       "      <th>sc</th>\n",
       "      <th>sod</th>\n",
       "      <th>pot</th>\n",
       "      <th>hemo</th>\n",
       "      <th>pcv</th>\n",
       "      <th>wc</th>\n",
       "      <th>rc</th>\n",
       "      <th>htn</th>\n",
       "      <th>dm</th>\n",
       "      <th>cad</th>\n",
       "      <th>appet</th>\n",
       "      <th>pe</th>\n",
       "      <th>ane</th>\n",
       "      <th>class</th>\n",
       "    </tr>\n",
       "  </thead>\n",
       "  <tbody>\n",
       "    <tr>\n",
       "      <th>count</th>\n",
       "      <td>400.000000</td>\n",
       "      <td>400.000000</td>\n",
       "      <td>400.000000</td>\n",
       "      <td>400.00000</td>\n",
       "      <td>400.000000</td>\n",
       "      <td>400.000000</td>\n",
       "      <td>400.000000</td>\n",
       "      <td>400.000000</td>\n",
       "      <td>400.000000</td>\n",
       "      <td>400.000000</td>\n",
       "      <td>400.000000</td>\n",
       "      <td>400.000000</td>\n",
       "      <td>400.000000</td>\n",
       "      <td>400.000000</td>\n",
       "      <td>400.000000</td>\n",
       "      <td>400.000000</td>\n",
       "      <td>400.000000</td>\n",
       "      <td>400.000000</td>\n",
       "      <td>400.000000</td>\n",
       "      <td>400.000000</td>\n",
       "      <td>400.000000</td>\n",
       "      <td>400.000000</td>\n",
       "      <td>400.000000</td>\n",
       "      <td>400.000000</td>\n",
       "      <td>400.000000</td>\n",
       "    </tr>\n",
       "    <tr>\n",
       "      <th>mean</th>\n",
       "      <td>0.562311</td>\n",
       "      <td>0.203608</td>\n",
       "      <td>2.440000</td>\n",
       "      <td>1.05750</td>\n",
       "      <td>0.395000</td>\n",
       "      <td>0.727500</td>\n",
       "      <td>0.810000</td>\n",
       "      <td>0.105000</td>\n",
       "      <td>0.055000</td>\n",
       "      <td>0.269309</td>\n",
       "      <td>0.143583</td>\n",
       "      <td>0.035350</td>\n",
       "      <td>0.839298</td>\n",
       "      <td>0.047803</td>\n",
       "      <td>0.628044</td>\n",
       "      <td>0.638889</td>\n",
       "      <td>0.258182</td>\n",
       "      <td>0.402203</td>\n",
       "      <td>0.367500</td>\n",
       "      <td>3.300000</td>\n",
       "      <td>1.080000</td>\n",
       "      <td>0.205000</td>\n",
       "      <td>0.190000</td>\n",
       "      <td>0.150000</td>\n",
       "      <td>0.375000</td>\n",
       "    </tr>\n",
       "    <tr>\n",
       "      <th>std</th>\n",
       "      <td>0.192897</td>\n",
       "      <td>0.103664</td>\n",
       "      <td>1.146598</td>\n",
       "      <td>1.34302</td>\n",
       "      <td>1.040038</td>\n",
       "      <td>0.445803</td>\n",
       "      <td>0.392792</td>\n",
       "      <td>0.306937</td>\n",
       "      <td>0.228266</td>\n",
       "      <td>0.159792</td>\n",
       "      <td>0.126536</td>\n",
       "      <td>0.074305</td>\n",
       "      <td>0.058071</td>\n",
       "      <td>0.063366</td>\n",
       "      <td>0.199022</td>\n",
       "      <td>0.202778</td>\n",
       "      <td>0.121965</td>\n",
       "      <td>0.171037</td>\n",
       "      <td>0.482728</td>\n",
       "      <td>0.579517</td>\n",
       "      <td>0.289499</td>\n",
       "      <td>0.404207</td>\n",
       "      <td>0.392792</td>\n",
       "      <td>0.357519</td>\n",
       "      <td>0.484729</td>\n",
       "    </tr>\n",
       "    <tr>\n",
       "      <th>min</th>\n",
       "      <td>0.000000</td>\n",
       "      <td>0.000000</td>\n",
       "      <td>0.000000</td>\n",
       "      <td>0.00000</td>\n",
       "      <td>0.000000</td>\n",
       "      <td>0.000000</td>\n",
       "      <td>0.000000</td>\n",
       "      <td>0.000000</td>\n",
       "      <td>0.000000</td>\n",
       "      <td>0.000000</td>\n",
       "      <td>0.000000</td>\n",
       "      <td>0.000000</td>\n",
       "      <td>0.000000</td>\n",
       "      <td>0.000000</td>\n",
       "      <td>0.000000</td>\n",
       "      <td>0.000000</td>\n",
       "      <td>0.000000</td>\n",
       "      <td>0.000000</td>\n",
       "      <td>0.000000</td>\n",
       "      <td>0.000000</td>\n",
       "      <td>0.000000</td>\n",
       "      <td>0.000000</td>\n",
       "      <td>0.000000</td>\n",
       "      <td>0.000000</td>\n",
       "      <td>0.000000</td>\n",
       "    </tr>\n",
       "    <tr>\n",
       "      <th>25%</th>\n",
       "      <td>0.454545</td>\n",
       "      <td>0.153846</td>\n",
       "      <td>1.000000</td>\n",
       "      <td>0.00000</td>\n",
       "      <td>0.000000</td>\n",
       "      <td>0.000000</td>\n",
       "      <td>1.000000</td>\n",
       "      <td>0.000000</td>\n",
       "      <td>0.000000</td>\n",
       "      <td>0.168803</td>\n",
       "      <td>0.065469</td>\n",
       "      <td>0.006614</td>\n",
       "      <td>0.823344</td>\n",
       "      <td>0.033708</td>\n",
       "      <td>0.482993</td>\n",
       "      <td>0.488889</td>\n",
       "      <td>0.180785</td>\n",
       "      <td>0.288136</td>\n",
       "      <td>0.000000</td>\n",
       "      <td>3.000000</td>\n",
       "      <td>1.000000</td>\n",
       "      <td>0.000000</td>\n",
       "      <td>0.000000</td>\n",
       "      <td>0.000000</td>\n",
       "      <td>0.000000</td>\n",
       "    </tr>\n",
       "    <tr>\n",
       "      <th>50%</th>\n",
       "      <td>0.590909</td>\n",
       "      <td>0.217189</td>\n",
       "      <td>3.000000</td>\n",
       "      <td>0.00000</td>\n",
       "      <td>0.000000</td>\n",
       "      <td>1.000000</td>\n",
       "      <td>1.000000</td>\n",
       "      <td>0.000000</td>\n",
       "      <td>0.000000</td>\n",
       "      <td>0.222222</td>\n",
       "      <td>0.109114</td>\n",
       "      <td>0.013228</td>\n",
       "      <td>0.839298</td>\n",
       "      <td>0.047803</td>\n",
       "      <td>0.632653</td>\n",
       "      <td>0.644444</td>\n",
       "      <td>0.239669</td>\n",
       "      <td>0.406780</td>\n",
       "      <td>0.000000</td>\n",
       "      <td>3.000000</td>\n",
       "      <td>1.000000</td>\n",
       "      <td>0.000000</td>\n",
       "      <td>0.000000</td>\n",
       "      <td>0.000000</td>\n",
       "      <td>0.000000</td>\n",
       "    </tr>\n",
       "    <tr>\n",
       "      <th>75%</th>\n",
       "      <td>0.704545</td>\n",
       "      <td>0.230769</td>\n",
       "      <td>3.000000</td>\n",
       "      <td>2.00000</td>\n",
       "      <td>0.000000</td>\n",
       "      <td>1.000000</td>\n",
       "      <td>1.000000</td>\n",
       "      <td>0.000000</td>\n",
       "      <td>0.000000</td>\n",
       "      <td>0.273504</td>\n",
       "      <td>0.154685</td>\n",
       "      <td>0.035350</td>\n",
       "      <td>0.861199</td>\n",
       "      <td>0.051685</td>\n",
       "      <td>0.795918</td>\n",
       "      <td>0.783333</td>\n",
       "      <td>0.314050</td>\n",
       "      <td>0.525424</td>\n",
       "      <td>1.000000</td>\n",
       "      <td>4.000000</td>\n",
       "      <td>1.000000</td>\n",
       "      <td>0.000000</td>\n",
       "      <td>0.000000</td>\n",
       "      <td>0.000000</td>\n",
       "      <td>1.000000</td>\n",
       "    </tr>\n",
       "    <tr>\n",
       "      <th>max</th>\n",
       "      <td>1.000000</td>\n",
       "      <td>1.000000</td>\n",
       "      <td>4.000000</td>\n",
       "      <td>5.00000</td>\n",
       "      <td>5.000000</td>\n",
       "      <td>1.000000</td>\n",
       "      <td>1.000000</td>\n",
       "      <td>1.000000</td>\n",
       "      <td>1.000000</td>\n",
       "      <td>1.000000</td>\n",
       "      <td>1.000000</td>\n",
       "      <td>1.000000</td>\n",
       "      <td>1.000000</td>\n",
       "      <td>1.000000</td>\n",
       "      <td>1.000000</td>\n",
       "      <td>1.000000</td>\n",
       "      <td>1.000000</td>\n",
       "      <td>1.000000</td>\n",
       "      <td>1.000000</td>\n",
       "      <td>4.000000</td>\n",
       "      <td>2.000000</td>\n",
       "      <td>1.000000</td>\n",
       "      <td>1.000000</td>\n",
       "      <td>1.000000</td>\n",
       "      <td>1.000000</td>\n",
       "    </tr>\n",
       "  </tbody>\n",
       "</table>\n",
       "</div>"
      ],
      "text/plain": [
       "              age          bp          sg         al          su         rbc  \\\n",
       "count  400.000000  400.000000  400.000000  400.00000  400.000000  400.000000   \n",
       "mean     0.562311    0.203608    2.440000    1.05750    0.395000    0.727500   \n",
       "std      0.192897    0.103664    1.146598    1.34302    1.040038    0.445803   \n",
       "min      0.000000    0.000000    0.000000    0.00000    0.000000    0.000000   \n",
       "25%      0.454545    0.153846    1.000000    0.00000    0.000000    0.000000   \n",
       "50%      0.590909    0.217189    3.000000    0.00000    0.000000    1.000000   \n",
       "75%      0.704545    0.230769    3.000000    2.00000    0.000000    1.000000   \n",
       "max      1.000000    1.000000    4.000000    5.00000    5.000000    1.000000   \n",
       "\n",
       "               pc         pcc          ba         bgr          bu          sc  \\\n",
       "count  400.000000  400.000000  400.000000  400.000000  400.000000  400.000000   \n",
       "mean     0.810000    0.105000    0.055000    0.269309    0.143583    0.035350   \n",
       "std      0.392792    0.306937    0.228266    0.159792    0.126536    0.074305   \n",
       "min      0.000000    0.000000    0.000000    0.000000    0.000000    0.000000   \n",
       "25%      1.000000    0.000000    0.000000    0.168803    0.065469    0.006614   \n",
       "50%      1.000000    0.000000    0.000000    0.222222    0.109114    0.013228   \n",
       "75%      1.000000    0.000000    0.000000    0.273504    0.154685    0.035350   \n",
       "max      1.000000    1.000000    1.000000    1.000000    1.000000    1.000000   \n",
       "\n",
       "              sod         pot        hemo         pcv          wc          rc  \\\n",
       "count  400.000000  400.000000  400.000000  400.000000  400.000000  400.000000   \n",
       "mean     0.839298    0.047803    0.628044    0.638889    0.258182    0.402203   \n",
       "std      0.058071    0.063366    0.199022    0.202778    0.121965    0.171037   \n",
       "min      0.000000    0.000000    0.000000    0.000000    0.000000    0.000000   \n",
       "25%      0.823344    0.033708    0.482993    0.488889    0.180785    0.288136   \n",
       "50%      0.839298    0.047803    0.632653    0.644444    0.239669    0.406780   \n",
       "75%      0.861199    0.051685    0.795918    0.783333    0.314050    0.525424   \n",
       "max      1.000000    1.000000    1.000000    1.000000    1.000000    1.000000   \n",
       "\n",
       "              htn          dm         cad       appet          pe         ane  \\\n",
       "count  400.000000  400.000000  400.000000  400.000000  400.000000  400.000000   \n",
       "mean     0.367500    3.300000    1.080000    0.205000    0.190000    0.150000   \n",
       "std      0.482728    0.579517    0.289499    0.404207    0.392792    0.357519   \n",
       "min      0.000000    0.000000    0.000000    0.000000    0.000000    0.000000   \n",
       "25%      0.000000    3.000000    1.000000    0.000000    0.000000    0.000000   \n",
       "50%      0.000000    3.000000    1.000000    0.000000    0.000000    0.000000   \n",
       "75%      1.000000    4.000000    1.000000    0.000000    0.000000    0.000000   \n",
       "max      1.000000    4.000000    2.000000    1.000000    1.000000    1.000000   \n",
       "\n",
       "            class  \n",
       "count  400.000000  \n",
       "mean     0.375000  \n",
       "std      0.484729  \n",
       "min      0.000000  \n",
       "25%      0.000000  \n",
       "50%      0.000000  \n",
       "75%      1.000000  \n",
       "max      1.000000  "
      ]
     },
     "execution_count": 671,
     "metadata": {},
     "output_type": "execute_result"
    }
   ],
   "source": [
    "print(\"Statistics and box plot for the Numerical attributes:\")\n",
    "scaler = MinMaxScaler()\n",
    "df[numerical_attributes] = scaler.fit_transform(df[numerical_attributes])\n",
    "df.describe()"
   ]
  },
  {
   "cell_type": "code",
   "execution_count": 672,
   "metadata": {},
   "outputs": [
    {
     "data": {
      "image/png": "[encoded data removed]",
      "text/plain": [
       "<Figure size 720x720 with 1 Axes>"
      ]
     },
     "metadata": {
      "needs_background": "light"
     },
     "output_type": "display_data"
    }
   ],
   "source": [
    "boxplot = df[numerical_attributes].astype(float).boxplot(figsize=[10,10])\n",
    "plt.show()"
   ]
  },
  {
   "cell_type": "markdown",
   "metadata": {},
   "source": [
    "### Build machine learning model"
   ]
  },
  {
   "cell_type": "code",
   "execution_count": 673,
   "metadata": {},
   "outputs": [
    {
     "name": "stdout",
     "output_type": "stream",
     "text": [
      "Classifier used - Decision Tree Classifier :\n",
      "Accuracy: 0.9772727272727273\n",
      "Confusion matrix: \n",
      " [[83  1]\n",
      " [ 2 46]]\n",
      "              precision    recall  f1-score   support\n",
      "\n",
      "         0.0       0.98      0.99      0.98        84\n",
      "         1.0       0.98      0.96      0.97        48\n",
      "\n",
      "    accuracy                           0.98       132\n",
      "   macro avg       0.98      0.97      0.98       132\n",
      "weighted avg       0.98      0.98      0.98       132\n",
      "\n"
     ]
    }
   ],
   "source": [
    "# Create Decision Tree classifer object\n",
    "# function to classify and display the results \n",
    "def runClassifer(classifier, X_train, y_train, y_test):\n",
    "        classifier.fit(X_train, y_train)\n",
    "        y_pred = classifier.predict(X_test)\n",
    "        print(\"Accuracy:\",accuracy_score(y_test, y_pred))\n",
    "        print(\"Confusion matrix: \\n\", confusion_matrix(y_test, y_pred))\n",
    "        print(classification_report(y_test, y_pred))\n",
    "dtc = DecisionTreeClassifier(random_state=2)\n",
    "print(\"Classifier used - Decision Tree Classifier :\")\n",
    "runClassifer(dtc,X_train,y_train,y_test)"
   ]
  },
  {
   "cell_type": "code",
   "execution_count": 674,
   "metadata": {},
   "outputs": [
    {
     "name": "stdout",
     "output_type": "stream",
     "text": [
      "Classifier used - Gaussian Naive Bayes :\n",
      "Accuracy: 0.9772727272727273\n",
      "Confusion matrix: \n",
      " [[81  3]\n",
      " [ 0 48]]\n",
      "              precision    recall  f1-score   support\n",
      "\n",
      "         0.0       1.00      0.96      0.98        84\n",
      "         1.0       0.94      1.00      0.97        48\n",
      "\n",
      "    accuracy                           0.98       132\n",
      "   macro avg       0.97      0.98      0.98       132\n",
      "weighted avg       0.98      0.98      0.98       132\n",
      "\n"
     ]
    }
   ],
   "source": [
    "# Create Gaussian Naive Bayes classifer object\n",
    "gnb = GaussianNB()\n",
    "print(\"Classifier used - Gaussian Naive Bayes :\")\n",
    "runClassifer(gnb,X_train,y_train,y_test)"
   ]
  },
  {
   "cell_type": "code",
   "execution_count": 675,
   "metadata": {},
   "outputs": [
    {
     "name": "stdout",
     "output_type": "stream",
     "text": [
      "Classifier used - Gradient Boosting :\n",
      "Accuracy: 0.9848484848484849\n",
      "Confusion matrix: \n",
      " [[82  2]\n",
      " [ 0 48]]\n",
      "              precision    recall  f1-score   support\n",
      "\n",
      "         0.0       1.00      0.98      0.99        84\n",
      "         1.0       0.96      1.00      0.98        48\n",
      "\n",
      "    accuracy                           0.98       132\n",
      "   macro avg       0.98      0.99      0.98       132\n",
      "weighted avg       0.99      0.98      0.98       132\n",
      "\n"
     ]
    }
   ],
   "source": [
    "# Create Gradient Boosting classifer object\n",
    "gbc = GradientBoostingClassifier()\n",
    "print(\"Classifier used - Gradient Boosting :\")\n",
    "runClassifer(gbc,X_train,y_train,y_test)"
   ]
  },
  {
   "cell_type": "code",
   "execution_count": 676,
   "metadata": {},
   "outputs": [
    {
     "name": "stdout",
     "output_type": "stream",
     "text": [
      "Classifier used - SVM :\n",
      "Accuracy: 0.6363636363636364\n",
      "Confusion matrix: \n",
      " [[84  0]\n",
      " [48  0]]\n",
      "              precision    recall  f1-score   support\n",
      "\n",
      "         0.0       0.64      1.00      0.78        84\n",
      "         1.0       0.00      0.00      0.00        48\n",
      "\n",
      "    accuracy                           0.64       132\n",
      "   macro avg       0.32      0.50      0.39       132\n",
      "weighted avg       0.40      0.64      0.49       132\n",
      "\n"
     ]
    }
   ],
   "source": [
    "# Create SVM classifer object\n",
    "svm = SVC(kernel='rbf',random_state=2)\n",
    "print(\"Classifier used - SVM :\")\n",
    "runClassifer(svm,X_train,y_train,y_test)"
   ]
  },
  {
   "cell_type": "markdown",
   "metadata": {},
   "source": [
    "#### among all the classifier object created Gradient Boosting works best with accuracy of 0.99 and false negative value as 0"
   ]
  }
 ],
 "metadata": {
  "kernelspec": {
   "display_name": "Python 3 (ipykernel)",
   "language": "python",
   "name": "python3"
  },
  "language_info": {
   "codemirror_mode": {
    "name": "ipython",
    "version": 3
   },
   "file_extension": ".py",
   "mimetype": "text/x-python",
   "name": "python",
   "nbconvert_exporter": "python",
   "pygments_lexer": "ipython3",
   "version": "3.9.7"
  }
 },
 "nbformat": 4,
 "nbformat_minor": 4
}
